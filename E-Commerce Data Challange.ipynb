{
 "cells": [
  {
   "cell_type": "markdown",
   "metadata": {},
   "source": [
    "### Exploratory Data Analysis"
   ]
  },
  {
   "cell_type": "code",
   "execution_count": 1,
   "metadata": {},
   "outputs": [],
   "source": [
    "import missingno as msno\n",
    "import pandas as pd\n",
    "import numpy as np\n",
    "import matplotlib.pyplot as plt\n",
    "from os import listdir\n",
    "from IPython.display import display\n",
    "from lifetimes import utils as lftutls"
   ]
  },
  {
   "cell_type": "code",
   "execution_count": 2,
   "metadata": {},
   "outputs": [
    {
     "name": "stdout",
     "output_type": "stream",
     "text": [
      "customer_data\n",
      "\n",
      "<class 'pandas.core.frame.DataFrame'>\n",
      "Int64Index: 99441 entries, 0 to 99440\n",
      "Data columns (total 3 columns):\n",
      " #   Column              Non-Null Count  Dtype \n",
      "---  ------              --------------  ----- \n",
      " 0   customer_order_id   99441 non-null  object\n",
      " 1   customer_unique_id  99441 non-null  object\n",
      " 2   zipcode             99441 non-null  int64 \n",
      "dtypes: int64(1), object(2)\n",
      "memory usage: 3.0+ MB\n"
     ]
    },
    {
     "data": {
      "text/plain": [
       "None"
      ]
     },
     "metadata": {},
     "output_type": "display_data"
    },
    {
     "data": {
      "text/plain": [
       "customer_order_id     99441\n",
       "customer_unique_id    96096\n",
       "zipcode               14994\n",
       "dtype: int64"
      ]
     },
     "metadata": {},
     "output_type": "display_data"
    },
    {
     "name": "stdout",
     "output_type": "stream",
     "text": [
      "****************************************************************************************************\n",
      "\n",
      "order_data\n",
      "\n",
      "<class 'pandas.core.frame.DataFrame'>\n",
      "Int64Index: 99441 entries, 0 to 99440\n",
      "Data columns (total 6 columns):\n",
      " #   Column             Non-Null Count  Dtype \n",
      "---  ------             --------------  ----- \n",
      " 0   order_id           99441 non-null  object\n",
      " 1   customer_order_id  99441 non-null  object\n",
      " 2   order_status       99441 non-null  object\n",
      " 3   purchased_at       99441 non-null  object\n",
      " 4   approved_at        99281 non-null  object\n",
      " 5   delivered_at       96476 non-null  object\n",
      "dtypes: object(6)\n",
      "memory usage: 5.3+ MB\n"
     ]
    },
    {
     "data": {
      "text/plain": [
       "None"
      ]
     },
     "metadata": {},
     "output_type": "display_data"
    },
    {
     "data": {
      "text/plain": [
       "order_id             99441\n",
       "customer_order_id    99441\n",
       "order_status             8\n",
       "purchased_at         98875\n",
       "approved_at          90733\n",
       "delivered_at         95664\n",
       "dtype: int64"
      ]
     },
     "metadata": {},
     "output_type": "display_data"
    },
    {
     "name": "stdout",
     "output_type": "stream",
     "text": [
      "****************************************************************************************************\n",
      "\n",
      "order_product_data\n",
      "\n",
      "<class 'pandas.core.frame.DataFrame'>\n",
      "Int64Index: 112650 entries, 0 to 112649\n",
      "Data columns (total 5 columns):\n",
      " #   Column              Non-Null Count   Dtype  \n",
      "---  ------              --------------   -----  \n",
      " 0   order_id            112650 non-null  object \n",
      " 1   num_items_in_order  112650 non-null  int64  \n",
      " 2   product_id          112650 non-null  object \n",
      " 3   price               112650 non-null  float64\n",
      " 4   shipping            112650 non-null  float64\n",
      "dtypes: float64(2), int64(1), object(2)\n",
      "memory usage: 5.2+ MB\n"
     ]
    },
    {
     "data": {
      "text/plain": [
       "None"
      ]
     },
     "metadata": {},
     "output_type": "display_data"
    },
    {
     "data": {
      "text/plain": [
       "order_id              98666\n",
       "num_items_in_order       21\n",
       "product_id            32951\n",
       "price                  5968\n",
       "shipping               6999\n",
       "dtype: int64"
      ]
     },
     "metadata": {},
     "output_type": "display_data"
    },
    {
     "name": "stdout",
     "output_type": "stream",
     "text": [
      "****************************************************************************************************\n",
      "\n",
      "product_data\n",
      "\n",
      "<class 'pandas.core.frame.DataFrame'>\n",
      "Int64Index: 32328 entries, 0 to 32327\n",
      "Data columns (total 3 columns):\n",
      " #   Column            Non-Null Count  Dtype \n",
      "---  ------            --------------  ----- \n",
      " 0   product_id        32328 non-null  object\n",
      " 1   number_of_photos  32328 non-null  int64 \n",
      " 2   category          32328 non-null  object\n",
      "dtypes: int64(1), object(2)\n",
      "memory usage: 1010.2+ KB\n"
     ]
    },
    {
     "data": {
      "text/plain": [
       "None"
      ]
     },
     "metadata": {},
     "output_type": "display_data"
    },
    {
     "data": {
      "text/plain": [
       "product_id          32328\n",
       "number_of_photos       19\n",
       "category               41\n",
       "dtype: int64"
      ]
     },
     "metadata": {},
     "output_type": "display_data"
    },
    {
     "name": "stdout",
     "output_type": "stream",
     "text": [
      "****************************************************************************************************\n",
      "\n"
     ]
    }
   ],
   "source": [
    "data_dict = {}\n",
    "files = [file for file in listdir('.') if file.endswith('.csv')]\n",
    "\n",
    "for file in files:\n",
    "    temp_df = pd.read_csv(file, index_col=0)\n",
    "    table_name = file.split('.csv')[0]\n",
    "    data_dict[table_name] = temp_df\n",
    "    print(table_name, end='\\n\\n')\n",
    "    #display(temp_df.isnull().any(), )\n",
    "    display(temp_df.info(), temp_df.nunique())\n",
    "    print('*' * 100, end='\\n\\n')"
   ]
  },
  {
   "cell_type": "markdown",
   "metadata": {},
   "source": [
    "Entity Relationship Summary:\n",
    "- customer_data: unique order_id, non-unique cust_id\n",
    "    - customers have multiple orders\n",
    "- order_data: order_id, cust_order_id unique\n",
    "    - missing data in processed and delivery date columns\n",
    "- order_product_data: non-unique order_id & product_id\n",
    "    -  **num_items_in_order is misleading, it indicates the position of item in order**\n",
    "    -  **this would be a multiset table if not for num_items_in_order, redundant column**\n",
    "- product_data: unique product_id"
   ]
  },
  {
   "cell_type": "code",
   "execution_count": 3,
   "metadata": {},
   "outputs": [
    {
     "data": {
      "text/plain": [
       "<AxesSubplot:>"
      ]
     },
     "execution_count": 3,
     "metadata": {},
     "output_type": "execute_result"
    },
    {
     "data": {
      "image/png": "[encoded data removed]",
      "text/plain": [
       "<Figure size 1800x720 with 2 Axes>"
      ]
     },
     "metadata": {
      "needs_background": "light"
     },
     "output_type": "display_data"
    }
   ],
   "source": [
    "order_data = data_dict['order_data']\n",
    "msno.matrix(order_data)"
   ]
  },
  {
   "cell_type": "markdown",
   "metadata": {},
   "source": [
    "- Assume all orders are delivered (no refunds, no exchanges, no partial-orders)\n",
    "    - Possible imputation using max delivery diff\n",
    "    - correlated missing data for order approval and delivery (NMAR)"
   ]
  },
  {
   "cell_type": "code",
   "execution_count": 4,
   "metadata": {},
   "outputs": [],
   "source": [
    "missing_dt = order_data.approved_at.isnull() & order_data.approved_at.isnull()"
   ]
  },
  {
   "cell_type": "code",
   "execution_count": 5,
   "metadata": {},
   "outputs": [
    {
     "data": {
      "text/plain": [
       "canceled     141\n",
       "delivered     14\n",
       "created        5\n",
       "Name: order_status, dtype: int64"
      ]
     },
     "execution_count": 5,
     "metadata": {},
     "output_type": "execute_result"
    }
   ],
   "source": [
    "order_data[missing_dt].order_status.value_counts()"
   ]
  },
  {
   "cell_type": "markdown",
   "metadata": {},
   "source": [
    "### Join Order Customer Table"
   ]
  },
  {
   "cell_type": "code",
   "execution_count": 6,
   "metadata": {},
   "outputs": [],
   "source": [
    "order_data['purchased_at'] = pd.to_datetime(order_data.purchased_at)\n",
    "order_data['approved_at'] = pd.to_datetime(order_data.approved_at)\n",
    "order_data['delivered_at'] = pd.to_datetime(order_data.delivered_at)"
   ]
  },
  {
   "cell_type": "code",
   "execution_count": 7,
   "metadata": {},
   "outputs": [
    {
     "data": {
      "text/html": [
       "<div>\n",
       "<style scoped>\n",
       "    .dataframe tbody tr th:only-of-type {\n",
       "        vertical-align: middle;\n",
       "    }\n",
       "\n",
       "    .dataframe tbody tr th {\n",
       "        vertical-align: top;\n",
       "    }\n",
       "\n",
       "    .dataframe thead th {\n",
       "        text-align: right;\n",
       "    }\n",
       "</style>\n",
       "<table border=\"1\" class=\"dataframe\">\n",
       "  <thead>\n",
       "    <tr style=\"text-align: right;\">\n",
       "      <th></th>\n",
       "      <th>order_id</th>\n",
       "      <th>customer_order_id</th>\n",
       "      <th>order_status</th>\n",
       "      <th>purchased_at</th>\n",
       "      <th>approved_at</th>\n",
       "      <th>delivered_at</th>\n",
       "      <th>customer_unique_id</th>\n",
       "      <th>zipcode</th>\n",
       "    </tr>\n",
       "  </thead>\n",
       "  <tbody>\n",
       "    <tr>\n",
       "      <th>42539</th>\n",
       "      <td>345a398e91fef84fbffb9c07611c9959</td>\n",
       "      <td>7185fdbf483003e78b65e2571d89976f</td>\n",
       "      <td>processing</td>\n",
       "      <td>2017-05-07 22:55:53</td>\n",
       "      <td>2017-05-07 23:05:13</td>\n",
       "      <td>NaT</td>\n",
       "      <td>c012dc15bf0773671a901e6b6e032c95</td>\n",
       "      <td>56328</td>\n",
       "    </tr>\n",
       "    <tr>\n",
       "      <th>56255</th>\n",
       "      <td>1b639d1c43c530ad38bb59d4ea7f8d08</td>\n",
       "      <td>ce65d81faff1e65d08d331bfe6c0ad6e</td>\n",
       "      <td>delivered</td>\n",
       "      <td>2017-12-29 18:23:19</td>\n",
       "      <td>2017-12-30 14:27:40</td>\n",
       "      <td>2018-01-30 21:42:48</td>\n",
       "      <td>5ee8f21bffc44f0d99469baeb26d0dfc</td>\n",
       "      <td>76829</td>\n",
       "    </tr>\n",
       "    <tr>\n",
       "      <th>88602</th>\n",
       "      <td>0549a140f31f96d7cafd46b91d604c06</td>\n",
       "      <td>c798702c7aeaca1e47c10e45742b5c02</td>\n",
       "      <td>delivered</td>\n",
       "      <td>2018-05-06 21:44:22</td>\n",
       "      <td>2018-05-07 10:11:18</td>\n",
       "      <td>2018-05-14 17:12:01</td>\n",
       "      <td>6b4f9db3932e60d8255df92acff8edd7</td>\n",
       "      <td>3260</td>\n",
       "    </tr>\n",
       "  </tbody>\n",
       "</table>\n",
       "</div>"
      ],
      "text/plain": [
       "                               order_id                 customer_order_id  \\\n",
       "42539  345a398e91fef84fbffb9c07611c9959  7185fdbf483003e78b65e2571d89976f   \n",
       "56255  1b639d1c43c530ad38bb59d4ea7f8d08  ce65d81faff1e65d08d331bfe6c0ad6e   \n",
       "88602  0549a140f31f96d7cafd46b91d604c06  c798702c7aeaca1e47c10e45742b5c02   \n",
       "\n",
       "      order_status        purchased_at         approved_at  \\\n",
       "42539   processing 2017-05-07 22:55:53 2017-05-07 23:05:13   \n",
       "56255    delivered 2017-12-29 18:23:19 2017-12-30 14:27:40   \n",
       "88602    delivered 2018-05-06 21:44:22 2018-05-07 10:11:18   \n",
       "\n",
       "             delivered_at                customer_unique_id  zipcode  \n",
       "42539                 NaT  c012dc15bf0773671a901e6b6e032c95    56328  \n",
       "56255 2018-01-30 21:42:48  5ee8f21bffc44f0d99469baeb26d0dfc    76829  \n",
       "88602 2018-05-14 17:12:01  6b4f9db3932e60d8255df92acff8edd7     3260  "
      ]
     },
     "execution_count": 7,
     "metadata": {},
     "output_type": "execute_result"
    }
   ],
   "source": [
    "order_customer = order_data.merge(data_dict['customer_data'], on='customer_order_id')\n",
    "order_customer.sample(3)"
   ]
  },
  {
   "cell_type": "code",
   "execution_count": 8,
   "metadata": {},
   "outputs": [
    {
     "name": "stdout",
     "output_type": "stream",
     "text": [
      "<class 'pandas.core.frame.DataFrame'>\n",
      "Int64Index: 99441 entries, 0 to 99440\n",
      "Data columns (total 8 columns):\n",
      " #   Column              Non-Null Count  Dtype         \n",
      "---  ------              --------------  -----         \n",
      " 0   order_id            99441 non-null  object        \n",
      " 1   customer_order_id   99441 non-null  object        \n",
      " 2   order_status        99441 non-null  object        \n",
      " 3   purchased_at        99441 non-null  datetime64[ns]\n",
      " 4   approved_at         99281 non-null  datetime64[ns]\n",
      " 5   delivered_at        96476 non-null  datetime64[ns]\n",
      " 6   customer_unique_id  99441 non-null  object        \n",
      " 7   zipcode             99441 non-null  int64         \n",
      "dtypes: datetime64[ns](3), int64(1), object(4)\n",
      "memory usage: 6.8+ MB\n"
     ]
    },
    {
     "data": {
      "text/plain": [
       "(None,\n",
       " order_id              99441\n",
       " customer_order_id     99441\n",
       " order_status              8\n",
       " purchased_at          98875\n",
       " approved_at           90733\n",
       " delivered_at          95664\n",
       " customer_unique_id    96096\n",
       " zipcode               14994\n",
       " dtype: int64)"
      ]
     },
     "execution_count": 8,
     "metadata": {},
     "output_type": "execute_result"
    }
   ],
   "source": [
    "order_customer.info(), order_customer.nunique() # validate 99441 "
   ]
  },
  {
   "cell_type": "markdown",
   "metadata": {},
   "source": [
    "### Join Order-Product Product Table"
   ]
  },
  {
   "cell_type": "code",
   "execution_count": 9,
   "metadata": {},
   "outputs": [
    {
     "data": {
      "text/html": [
       "<div>\n",
       "<style scoped>\n",
       "    .dataframe tbody tr th:only-of-type {\n",
       "        vertical-align: middle;\n",
       "    }\n",
       "\n",
       "    .dataframe tbody tr th {\n",
       "        vertical-align: top;\n",
       "    }\n",
       "\n",
       "    .dataframe thead th {\n",
       "        text-align: right;\n",
       "    }\n",
       "</style>\n",
       "<table border=\"1\" class=\"dataframe\">\n",
       "  <thead>\n",
       "    <tr style=\"text-align: right;\">\n",
       "      <th></th>\n",
       "      <th>order_id</th>\n",
       "      <th>num_items_in_order</th>\n",
       "      <th>product_id</th>\n",
       "      <th>price</th>\n",
       "      <th>shipping</th>\n",
       "    </tr>\n",
       "  </thead>\n",
       "  <tbody>\n",
       "    <tr>\n",
       "      <th>10863</th>\n",
       "      <td>18bfcd3049f8effbdf7a7e9b11d07f38</td>\n",
       "      <td>1</td>\n",
       "      <td>85337022853da10b8f5fd7d1ef180421</td>\n",
       "      <td>39.9</td>\n",
       "      <td>34.15</td>\n",
       "    </tr>\n",
       "    <tr>\n",
       "      <th>101349</th>\n",
       "      <td>e5e40991ee40d56c69312d1736f84cdd</td>\n",
       "      <td>1</td>\n",
       "      <td>125efe6153a8b6ed25ed7cabdd43c1a6</td>\n",
       "      <td>13.5</td>\n",
       "      <td>15.11</td>\n",
       "    </tr>\n",
       "  </tbody>\n",
       "</table>\n",
       "</div>"
      ],
      "text/plain": [
       "                                order_id  num_items_in_order  \\\n",
       "10863   18bfcd3049f8effbdf7a7e9b11d07f38                   1   \n",
       "101349  e5e40991ee40d56c69312d1736f84cdd                   1   \n",
       "\n",
       "                              product_id  price  shipping  \n",
       "10863   85337022853da10b8f5fd7d1ef180421   39.9     34.15  \n",
       "101349  125efe6153a8b6ed25ed7cabdd43c1a6   13.5     15.11  "
      ]
     },
     "execution_count": 9,
     "metadata": {},
     "output_type": "execute_result"
    }
   ],
   "source": [
    "order_product_data = data_dict['order_product_data']\n",
    "order_product_data.sample(2)"
   ]
  },
  {
   "cell_type": "code",
   "execution_count": 10,
   "metadata": {},
   "outputs": [],
   "source": [
    "# caution: num_items_in_order\n",
    "order_product_agg = order_product_data.groupby(['order_id', 'product_id']).agg({'num_items_in_order' : 'count',\n",
    "                                                                                'price' : 'sum',\n",
    "                                                                                'shipping': 'sum'}).reset_index()"
   ]
  },
  {
   "cell_type": "code",
   "execution_count": 11,
   "metadata": {},
   "outputs": [
    {
     "data": {
      "text/html": [
       "<div>\n",
       "<style scoped>\n",
       "    .dataframe tbody tr th:only-of-type {\n",
       "        vertical-align: middle;\n",
       "    }\n",
       "\n",
       "    .dataframe tbody tr th {\n",
       "        vertical-align: top;\n",
       "    }\n",
       "\n",
       "    .dataframe thead th {\n",
       "        text-align: right;\n",
       "    }\n",
       "</style>\n",
       "<table border=\"1\" class=\"dataframe\">\n",
       "  <thead>\n",
       "    <tr style=\"text-align: right;\">\n",
       "      <th></th>\n",
       "      <th>order_id</th>\n",
       "      <th>product_id</th>\n",
       "      <th>num_items_in_order</th>\n",
       "      <th>price</th>\n",
       "      <th>shipping</th>\n",
       "    </tr>\n",
       "  </thead>\n",
       "  <tbody>\n",
       "    <tr>\n",
       "      <th>31</th>\n",
       "      <td>00143d0f86d6fbd9f9b38ab440ac16f5</td>\n",
       "      <td>e95ee6822b66ac6058e2e4aff656071a</td>\n",
       "      <td>3</td>\n",
       "      <td>63.99</td>\n",
       "      <td>45.3</td>\n",
       "    </tr>\n",
       "  </tbody>\n",
       "</table>\n",
       "</div>"
      ],
      "text/plain": [
       "                            order_id                        product_id  \\\n",
       "31  00143d0f86d6fbd9f9b38ab440ac16f5  e95ee6822b66ac6058e2e4aff656071a   \n",
       "\n",
       "    num_items_in_order  price  shipping  \n",
       "31                   3  63.99      45.3  "
      ]
     },
     "execution_count": 11,
     "metadata": {},
     "output_type": "execute_result"
    }
   ],
   "source": [
    "# validation\n",
    "order_product_agg[order_product_agg.order_id.isin(['00143d0f86d6fbd9f9b38ab440ac16f5'])] # matches Readme"
   ]
  },
  {
   "cell_type": "code",
   "execution_count": 12,
   "metadata": {},
   "outputs": [
    {
     "data": {
      "text/html": [
       "<div>\n",
       "<style scoped>\n",
       "    .dataframe tbody tr th:only-of-type {\n",
       "        vertical-align: middle;\n",
       "    }\n",
       "\n",
       "    .dataframe tbody tr th {\n",
       "        vertical-align: top;\n",
       "    }\n",
       "\n",
       "    .dataframe thead th {\n",
       "        text-align: right;\n",
       "    }\n",
       "</style>\n",
       "<table border=\"1\" class=\"dataframe\">\n",
       "  <thead>\n",
       "    <tr style=\"text-align: right;\">\n",
       "      <th></th>\n",
       "      <th>order_id</th>\n",
       "      <th>product_id</th>\n",
       "      <th>num_items_in_order</th>\n",
       "      <th>price</th>\n",
       "      <th>shipping</th>\n",
       "      <th>number_of_photos</th>\n",
       "      <th>category</th>\n",
       "    </tr>\n",
       "  </thead>\n",
       "  <tbody>\n",
       "    <tr>\n",
       "      <th>61648</th>\n",
       "      <td>9b28ecb03bbb9a5081729d9f822f46a1</td>\n",
       "      <td>1a053f9619cbdb4a83c0f61a68d01211</td>\n",
       "      <td>1</td>\n",
       "      <td>20.99</td>\n",
       "      <td>15.25</td>\n",
       "      <td>2.0</td>\n",
       "      <td>sports</td>\n",
       "    </tr>\n",
       "    <tr>\n",
       "      <th>64179</th>\n",
       "      <td>a14990206b64de40d5aa9e4a235bcc64</td>\n",
       "      <td>ecaaaccb5eb3102553f001d62db6389e</td>\n",
       "      <td>1</td>\n",
       "      <td>288.92</td>\n",
       "      <td>16.77</td>\n",
       "      <td>2.0</td>\n",
       "      <td>computers_accessories</td>\n",
       "    </tr>\n",
       "    <tr>\n",
       "      <th>86873</th>\n",
       "      <td>d8d344285c3eb8fe24478102c93f6e94</td>\n",
       "      <td>d06d1c1f54c64e227690d22eb48855b2</td>\n",
       "      <td>1</td>\n",
       "      <td>43.20</td>\n",
       "      <td>14.10</td>\n",
       "      <td>3.0</td>\n",
       "      <td>sports</td>\n",
       "    </tr>\n",
       "  </tbody>\n",
       "</table>\n",
       "</div>"
      ],
      "text/plain": [
       "                               order_id                        product_id  \\\n",
       "61648  9b28ecb03bbb9a5081729d9f822f46a1  1a053f9619cbdb4a83c0f61a68d01211   \n",
       "64179  a14990206b64de40d5aa9e4a235bcc64  ecaaaccb5eb3102553f001d62db6389e   \n",
       "86873  d8d344285c3eb8fe24478102c93f6e94  d06d1c1f54c64e227690d22eb48855b2   \n",
       "\n",
       "       num_items_in_order   price  shipping  number_of_photos  \\\n",
       "61648                   1   20.99     15.25               2.0   \n",
       "64179                   1  288.92     16.77               2.0   \n",
       "86873                   1   43.20     14.10               3.0   \n",
       "\n",
       "                    category  \n",
       "61648                 sports  \n",
       "64179  computers_accessories  \n",
       "86873                 sports  "
      ]
     },
     "execution_count": 12,
     "metadata": {},
     "output_type": "execute_result"
    }
   ],
   "source": [
    "#Left Join not all ord_ids will have valid categories\n",
    "order_product_det = order_product_agg.merge(data_dict['product_data'], on='product_id', how='left')\n",
    "order_product_det.sample(3)"
   ]
  },
  {
   "cell_type": "code",
   "execution_count": 13,
   "metadata": {},
   "outputs": [],
   "source": [
    "order_product_det['total'] = order_product_det.price + order_product_det.shipping"
   ]
  },
  {
   "cell_type": "code",
   "execution_count": 14,
   "metadata": {},
   "outputs": [
    {
     "name": "stdout",
     "output_type": "stream",
     "text": [
      "<class 'pandas.core.frame.DataFrame'>\n",
      "Int64Index: 102425 entries, 0 to 102424\n",
      "Data columns (total 8 columns):\n",
      " #   Column              Non-Null Count   Dtype  \n",
      "---  ------              --------------   -----  \n",
      " 0   order_id            102425 non-null  object \n",
      " 1   product_id          102425 non-null  object \n",
      " 2   num_items_in_order  102425 non-null  int64  \n",
      " 3   price               102425 non-null  float64\n",
      " 4   shipping            102425 non-null  float64\n",
      " 5   number_of_photos    100943 non-null  float64\n",
      " 6   category            100943 non-null  object \n",
      " 7   total               102425 non-null  float64\n",
      "dtypes: float64(4), int64(1), object(3)\n",
      "memory usage: 7.0+ MB\n"
     ]
    },
    {
     "data": {
      "text/plain": [
       "(None,\n",
       " order_id              98666\n",
       " product_id            32951\n",
       " num_items_in_order       16\n",
       " price                  6981\n",
       " shipping               7969\n",
       " number_of_photos         19\n",
       " category                 41\n",
       " total                 31223\n",
       " dtype: int64)"
      ]
     },
     "execution_count": 14,
     "metadata": {},
     "output_type": "execute_result"
    }
   ],
   "source": [
    "order_product_det.info(), order_product_det.nunique()  #validate order_id 98666"
   ]
  },
  {
   "cell_type": "code",
   "execution_count": 15,
   "metadata": {},
   "outputs": [
    {
     "data": {
      "text/html": [
       "<div>\n",
       "<style scoped>\n",
       "    .dataframe tbody tr th:only-of-type {\n",
       "        vertical-align: middle;\n",
       "    }\n",
       "\n",
       "    .dataframe tbody tr th {\n",
       "        vertical-align: top;\n",
       "    }\n",
       "\n",
       "    .dataframe thead th {\n",
       "        text-align: right;\n",
       "    }\n",
       "</style>\n",
       "<table border=\"1\" class=\"dataframe\">\n",
       "  <thead>\n",
       "    <tr style=\"text-align: right;\">\n",
       "      <th></th>\n",
       "      <th>order_id</th>\n",
       "      <th>product_id</th>\n",
       "      <th>num_items_in_order</th>\n",
       "      <th>price</th>\n",
       "      <th>shipping</th>\n",
       "      <th>number_of_photos</th>\n",
       "      <th>category</th>\n",
       "      <th>total</th>\n",
       "    </tr>\n",
       "  </thead>\n",
       "  <tbody>\n",
       "    <tr>\n",
       "      <th>31</th>\n",
       "      <td>00143d0f86d6fbd9f9b38ab440ac16f5</td>\n",
       "      <td>e95ee6822b66ac6058e2e4aff656071a</td>\n",
       "      <td>3</td>\n",
       "      <td>63.99</td>\n",
       "      <td>45.3</td>\n",
       "      <td>1.0</td>\n",
       "      <td>sports</td>\n",
       "      <td>109.29</td>\n",
       "    </tr>\n",
       "  </tbody>\n",
       "</table>\n",
       "</div>"
      ],
      "text/plain": [
       "                            order_id                        product_id  \\\n",
       "31  00143d0f86d6fbd9f9b38ab440ac16f5  e95ee6822b66ac6058e2e4aff656071a   \n",
       "\n",
       "    num_items_in_order  price  shipping  number_of_photos category   total  \n",
       "31                   3  63.99      45.3               1.0   sports  109.29  "
      ]
     },
     "execution_count": 15,
     "metadata": {},
     "output_type": "execute_result"
    }
   ],
   "source": [
    "order_product_det[order_product_det.order_id.isin(['00143d0f86d6fbd9f9b38ab440ac16f5'])]  #validate 63.99, 45.30"
   ]
  },
  {
   "cell_type": "code",
   "execution_count": 16,
   "metadata": {},
   "outputs": [
    {
     "data": {
      "text/html": [
       "<div>\n",
       "<style scoped>\n",
       "    .dataframe tbody tr th:only-of-type {\n",
       "        vertical-align: middle;\n",
       "    }\n",
       "\n",
       "    .dataframe tbody tr th {\n",
       "        vertical-align: top;\n",
       "    }\n",
       "\n",
       "    .dataframe thead th {\n",
       "        text-align: right;\n",
       "    }\n",
       "</style>\n",
       "<table border=\"1\" class=\"dataframe\">\n",
       "  <thead>\n",
       "    <tr style=\"text-align: right;\">\n",
       "      <th></th>\n",
       "      <th>order_id</th>\n",
       "      <th>product_id</th>\n",
       "      <th>num_items_in_order</th>\n",
       "      <th>price</th>\n",
       "      <th>shipping</th>\n",
       "      <th>number_of_photos</th>\n",
       "      <th>category</th>\n",
       "      <th>total</th>\n",
       "    </tr>\n",
       "  </thead>\n",
       "  <tbody>\n",
       "    <tr>\n",
       "      <th>73</th>\n",
       "      <td>002f98c0f7efd42638ed6100ca699b42</td>\n",
       "      <td>880be32f4db1d9f6e2bec38fb6ac23ab</td>\n",
       "      <td>1</td>\n",
       "      <td>44.90</td>\n",
       "      <td>7.16</td>\n",
       "      <td>4.0</td>\n",
       "      <td>toys</td>\n",
       "      <td>52.06</td>\n",
       "    </tr>\n",
       "    <tr>\n",
       "      <th>74</th>\n",
       "      <td>002f98c0f7efd42638ed6100ca699b42</td>\n",
       "      <td>d41dc2f2979f52d75d78714b378d4068</td>\n",
       "      <td>1</td>\n",
       "      <td>8.99</td>\n",
       "      <td>32.57</td>\n",
       "      <td>1.0</td>\n",
       "      <td>games</td>\n",
       "      <td>41.56</td>\n",
       "    </tr>\n",
       "  </tbody>\n",
       "</table>\n",
       "</div>"
      ],
      "text/plain": [
       "                            order_id                        product_id  \\\n",
       "73  002f98c0f7efd42638ed6100ca699b42  880be32f4db1d9f6e2bec38fb6ac23ab   \n",
       "74  002f98c0f7efd42638ed6100ca699b42  d41dc2f2979f52d75d78714b378d4068   \n",
       "\n",
       "    num_items_in_order  price  shipping  number_of_photos category  total  \n",
       "73                   1  44.90      7.16               4.0     toys  52.06  \n",
       "74                   1   8.99     32.57               1.0    games  41.56  "
      ]
     },
     "execution_count": 16,
     "metadata": {},
     "output_type": "execute_result"
    }
   ],
   "source": [
    "# validation ordr id: nunique > 1 item |(given) count == 1\n",
    "order_product_det[order_product_det.order_id.isin(['002f98c0f7efd42638ed6100ca699b42'])]"
   ]
  },
  {
   "cell_type": "markdown",
   "metadata": {},
   "source": [
    "### Create Master Table"
   ]
  },
  {
   "cell_type": "code",
   "execution_count": 17,
   "metadata": {},
   "outputs": [],
   "source": [
    "ord_cus_prod = order_customer.merge(order_product_det, how='outer')  #not all ord_id have valid categories and products"
   ]
  },
  {
   "cell_type": "code",
   "execution_count": 18,
   "metadata": {},
   "outputs": [
    {
     "name": "stdout",
     "output_type": "stream",
     "text": [
      "<class 'pandas.core.frame.DataFrame'>\n",
      "Int64Index: 103200 entries, 0 to 103199\n",
      "Data columns (total 15 columns):\n",
      " #   Column              Non-Null Count   Dtype         \n",
      "---  ------              --------------   -----         \n",
      " 0   order_id            103200 non-null  object        \n",
      " 1   customer_order_id   103200 non-null  object        \n",
      " 2   order_status        103200 non-null  object        \n",
      " 3   purchased_at        103200 non-null  datetime64[ns]\n",
      " 4   approved_at         103040 non-null  datetime64[ns]\n",
      " 5   delivered_at        100195 non-null  datetime64[ns]\n",
      " 6   customer_unique_id  103200 non-null  object        \n",
      " 7   zipcode             103200 non-null  int64         \n",
      " 8   product_id          102425 non-null  object        \n",
      " 9   num_items_in_order  102425 non-null  float64       \n",
      " 10  price               102425 non-null  float64       \n",
      " 11  shipping            102425 non-null  float64       \n",
      " 12  number_of_photos    100943 non-null  float64       \n",
      " 13  category            100943 non-null  object        \n",
      " 14  total               102425 non-null  float64       \n",
      "dtypes: datetime64[ns](3), float64(5), int64(1), object(6)\n",
      "memory usage: 12.6+ MB\n"
     ]
    },
    {
     "data": {
      "text/plain": [
       "(None,\n",
       " order_id              99441\n",
       " customer_order_id     99441\n",
       " order_status              8\n",
       " purchased_at          98875\n",
       " approved_at           90733\n",
       " delivered_at          95664\n",
       " customer_unique_id    96096\n",
       " zipcode               14994\n",
       " product_id            32951\n",
       " num_items_in_order       16\n",
       " price                  6981\n",
       " shipping               7969\n",
       " number_of_photos         19\n",
       " category                 41\n",
       " total                 31223\n",
       " dtype: int64)"
      ]
     },
     "execution_count": 18,
     "metadata": {},
     "output_type": "execute_result"
    }
   ],
   "source": [
    "ord_cus_prod.info(), ord_cus_prod.nunique()  # validate order_id 99441"
   ]
  },
  {
   "cell_type": "markdown",
   "metadata": {},
   "source": [
    "### Summary\n",
    "\n",
    "##### Examining the Purchase activity in our dataset, we can see the first transaction occurs September 4, 2016 and the last activity is on October 17, 2018 making the dataset a little more than 2 years in duration."
   ]
  },
  {
   "cell_type": "code",
   "execution_count": 19,
   "metadata": {},
   "outputs": [
    {
     "data": {
      "text/plain": [
       "count                            99441\n",
       "mean     2017-12-31 08:43:12.776581120\n",
       "min                2016-09-04 21:15:19\n",
       "25%                2017-09-12 14:46:19\n",
       "50%                2018-01-18 23:04:36\n",
       "75%                2018-05-04 15:42:16\n",
       "max                2018-10-17 17:30:18\n",
       "Name: purchased_at, dtype: object"
      ]
     },
     "execution_count": 19,
     "metadata": {},
     "output_type": "execute_result"
    }
   ],
   "source": [
    "order_customer.purchased_at.describe(datetime_is_numeric=True)"
   ]
  },
  {
   "cell_type": "markdown",
   "metadata": {},
   "source": [
    "##### In this roughly 2-year period, we see over 96K unique customers, generating just over 99K thousand unique transactions and revenue of about $15.8 Million[<sup>1</sup>](#fn1)\n",
    "\n",
    "\n",
    "The lowest and highest transaction amounts are <b>\\\\$9.59</b> and <b>\\\\$13,644</b> respectively. The mean amount is <b>\\\\$160.58</b>\n",
    "\n",
    "<span id=\"fn1\">1.</span> Excluding revenue from missing pricing and shipping costs (due to missing items in the product catalog)"
   ]
  },
  {
   "cell_type": "code",
   "execution_count": 20,
   "metadata": {},
   "outputs": [
    {
     "data": {
      "text/plain": [
       "(99441, 96096)"
      ]
     },
     "execution_count": 20,
     "metadata": {},
     "output_type": "execute_result"
    }
   ],
   "source": [
    "order_customer.order_id.count(), order_customer.customer_unique_id.nunique()"
   ]
  },
  {
   "cell_type": "code",
   "execution_count": 21,
   "metadata": {},
   "outputs": [
    {
     "data": {
      "text/plain": [
       "(15843553.239998933,\n",
       " count    98666.000000\n",
       " mean       160.577638\n",
       " std        220.466087\n",
       " min          9.590000\n",
       " 25%         61.980000\n",
       " 50%        105.290000\n",
       " 75%        176.870000\n",
       " max      13664.080000\n",
       " Name: total, dtype: float64)"
      ]
     },
     "execution_count": 21,
     "metadata": {},
     "output_type": "execute_result"
    }
   ],
   "source": [
    "total_by_ordr = order_product_det.groupby('order_id').total.sum()\n",
    "\n",
    "sum(order_product_det.total), total_by_ordr.describe()"
   ]
  },
  {
   "cell_type": "markdown",
   "metadata": {},
   "source": [
    "##### The transaction frequency (histogram) shows that the retailer is on the downturn in customer activity, and there does not seem to be an obvious volatility nor a seasonal impact"
   ]
  },
  {
   "cell_type": "code",
   "execution_count": 22,
   "metadata": {},
   "outputs": [
    {
     "data": {
      "text/plain": [
       "Text(0.5, 1.0, 'Transaction Frequency')"
      ]
     },
     "execution_count": 22,
     "metadata": {},
     "output_type": "execute_result"
    },
    {
     "data": {
      "image/png": "[encoded data removed]",
      "text/plain": [
       "<Figure size 432x288 with 1 Axes>"
      ]
     },
     "metadata": {
      "needs_background": "light"
     },
     "output_type": "display_data"
    }
   ],
   "source": [
    "order_customer.purchased_at.hist(xrot='20')\n",
    "\n",
    "plt.xlabel('Purchased')\n",
    "plt.ylabel('Frequency')\n",
    "plt.title('Transaction Frequency')"
   ]
  },
  {
   "cell_type": "markdown",
   "metadata": {},
   "source": [
    "##### Avg. Unique Orders/Customer"
   ]
  },
  {
   "cell_type": "code",
   "execution_count": 23,
   "metadata": {},
   "outputs": [
    {
     "name": "stdout",
     "output_type": "stream",
     "text": [
      "The Avg Unique TXNs per customer is 1.03\n"
     ]
    }
   ],
   "source": [
    "ordrs_by_cust = order_customer.groupby(\"customer_unique_id\").order_id.count()\n",
    "print(f'The Avg Unique TXNs per customer is %.2f' % ordrs_by_cust.mean())"
   ]
  },
  {
   "cell_type": "markdown",
   "metadata": {},
   "source": [
    "##### Avg. Unique Products/Customer"
   ]
  },
  {
   "cell_type": "code",
   "execution_count": 24,
   "metadata": {},
   "outputs": [
    {
     "data": {
      "text/plain": [
       "1    748\n",
       "2     12\n",
       "3      1\n",
       "Name: product_id, dtype: int64"
      ]
     },
     "execution_count": 24,
     "metadata": {},
     "output_type": "execute_result"
    }
   ],
   "source": [
    "# Missing Product IDs (First Impute NaNs)\n",
    "na_prods_by_cust = ord_cus_prod.reset_index()[ord_cus_prod.product_id.isnull()].groupby(\n",
    "    'customer_unique_id').agg({'product_id': 'size', 'index': 'max'})\n",
    "na_prods_by_cust.product_id.value_counts()"
   ]
  },
  {
   "cell_type": "code",
   "execution_count": 25,
   "metadata": {},
   "outputs": [],
   "source": [
    "impute_prod_idx = na_prods_by_cust.loc[na_prods_by_cust.product_id == 1, 'index'].values"
   ]
  },
  {
   "cell_type": "code",
   "execution_count": 26,
   "metadata": {},
   "outputs": [],
   "source": [
    "# impute single product N/As treating them as arbitrary product id\n",
    "ord_cus_prod.loc[impute_prod_idx, 'product_id'] = 'Missing'"
   ]
  },
  {
   "cell_type": "code",
   "execution_count": 27,
   "metadata": {},
   "outputs": [
    {
     "name": "stdout",
     "output_type": "stream",
     "text": [
      "Avg Unique Product(s) Purchases per customer is 1.07\n"
     ]
    }
   ],
   "source": [
    "# Avg. Unique Prod/Cust\n",
    "prods_per_cust = ord_cus_prod.dropna(subset=['product_id']).groupby(\"customer_unique_id\").product_id.nunique()\n",
    "print(f'Avg Unique Product(s) Purchases per customer is %.2f' % prods_per_cust.mean())"
   ]
  },
  {
   "cell_type": "markdown",
   "metadata": {},
   "source": [
    "##### Bins: Unique TXNs/Cust, Unique Prods/Cust & Unique Revenue/Category\n",
    "\n",
    "##### The next couple of graphs show that our sales follow the Pareto Principle; Majority of customers are making a one-time purchase of a single item. Following the 80/20 principal we can determine that important/trending product categories that represent majority of the revenue (see Top Categories chart below)."
   ]
  },
  {
   "cell_type": "code",
   "execution_count": 28,
   "metadata": {},
   "outputs": [],
   "source": [
    "txns_per_cust_bins = ordrs_by_cust.value_counts().sort_index()\n",
    "prods_per_cust_bins = prods_per_cust.value_counts().sort_index()"
   ]
  },
  {
   "cell_type": "code",
   "execution_count": 55,
   "metadata": {},
   "outputs": [
    {
     "data": {
      "text/plain": [
       "[<matplotlib.lines.Line2D at 0x1de347a9a90>]"
      ]
     },
     "execution_count": 55,
     "metadata": {},
     "output_type": "execute_result"
    },
    {
     "data": {
      "image/png": "[encoded data removed]",
      "text/plain": [
       "<Figure size 1080x288 with 4 Axes>"
      ]
     },
     "metadata": {
      "needs_background": "light"
     },
     "output_type": "display_data"
    }
   ],
   "source": [
    "# plot of number of orders per customer\n",
    "fig, axes = plt.subplots(nrows=1, ncols=2, figsize=(15, 4), sharey=True)\n",
    "axesA, axesB = axes\n",
    "axesA.set_title('Unique Product Bins')\n",
    "axesB.set_title('Unique Transaction Bins')\n",
    "\n",
    "prods_per_cust_bins.plot.bar(ax=axesA)\n",
    "\n",
    "pct_cumsum_prods = (prods_per_cust_bins.cumsum() / prods_per_cust_bins.sum()) * 100\n",
    "\n",
    "ax2=axesA.twinx()\n",
    "axesA.set_ylabel(\"Number of customers\")\n",
    "axesA.set_xlabel(\"Product Count\")\n",
    "ax2.set_ylabel(\"Cumulative percent\")\n",
    "ax2.plot(range(len(prods_per_cust_bins)), pct_cumsum_prods, linestyle='dashdot', color='blueviolet')\n",
    "\n",
    "# plot of number of items bought per customer\n",
    "txns_per_cust_bins.plot.bar(ax=axesB)\n",
    "\n",
    "pct_cumsum_txns = (txns_per_cust_bins.cumsum() / txns_per_cust_bins.sum()) * 100\n",
    "\n",
    "ax3=axesB.twinx()\n",
    "axesB.set_ylabel(\"Number of customers\")\n",
    "axesB.set_xlabel(\"Transaction Count\")\n",
    "ax3.set_ylabel(\"Cumulative percent\")\n",
    "ax3.plot(range(len(txns_per_cust_bins)), pct_cumsum_txns, linestyle='dashdot', color='blueviolet')"
   ]
  },
  {
   "cell_type": "code",
   "execution_count": 61,
   "metadata": {},
   "outputs": [],
   "source": [
    "cat_total = order_product_det.groupby('category').total.sum().sort_values(ascending=False)"
   ]
  },
  {
   "cell_type": "code",
   "execution_count": 62,
   "metadata": {},
   "outputs": [
    {
     "data": {
      "text/plain": [
       "[<matplotlib.lines.Line2D at 0x1de351825b0>]"
      ]
     },
     "execution_count": 62,
     "metadata": {},
     "output_type": "execute_result"
    },
    {
     "data": {
      "image/png": "[encoded data removed]",
      "text/plain": [
       "<Figure size 1080x288 with 2 Axes>"
      ]
     },
     "metadata": {
      "needs_background": "light"
     },
     "output_type": "display_data"
    }
   ],
   "source": [
    "# plot of number of orders per customer\n",
    "fig, axes = plt.subplots(figsize=(15, 4))\n",
    "axes.set_title('Top Categories')\n",
    "\n",
    "cat_total.plot.bar(ax=axes)\n",
    "\n",
    "pct_cumsum_cat = (cat_total.cumsum() / cat_total.sum()) * 100\n",
    "\n",
    "ax2=axes.twinx()\n",
    "axes.set_ylabel(\"Number of customers\")\n",
    "axes.set_xlabel(\"Product Count\")\n",
    "ax2.set_ylabel(\"Cumulative percent\")\n",
    "ax2.plot(range(len(cat_total)), pct_cumsum_cat, linestyle='dashdot', color='blueviolet')"
   ]
  },
  {
   "cell_type": "markdown",
   "metadata": {},
   "source": [
    "##### By defining individual transactions as unique days in which one or more purchases are made, we can examine the distribution of the days between purchase events. In this way, the more active the customer, the smaller the difference of days between purchases. The time since we last saw a customer is a critical factor to determining whether they will ever come back with the probability of return dropping as more and more time passes since a customer's last purchase event.\n",
    "\n",
    "##### The descriptive statistics show that most customers return to the site within 2 to 3 months after their previous purchase. Longer gaps like 6 months do occur but significantly fewer customers have longer gaps between returns. "
   ]
  },
  {
   "cell_type": "code",
   "execution_count": 32,
   "metadata": {},
   "outputs": [],
   "source": [
    "cust_purdt = order_customer.groupby(['customer_unique_id',\n",
    "                                     pd.to_datetime(order_customer.purchased_at.dt.date)]).size()"
   ]
  },
  {
   "cell_type": "code",
   "execution_count": 33,
   "metadata": {},
   "outputs": [],
   "source": [
    "cust_purdt = cust_purdt.sort_index().reset_index()"
   ]
  },
  {
   "cell_type": "code",
   "execution_count": 34,
   "metadata": {},
   "outputs": [],
   "source": [
    "cust_purdt['prev_pur_dt'] = cust_purdt.groupby(['customer_unique_id']).purchased_at.shift()"
   ]
  },
  {
   "cell_type": "code",
   "execution_count": 35,
   "metadata": {},
   "outputs": [],
   "source": [
    "cust_purdt['diff_days'] = (cust_purdt.purchased_at - cust_purdt.prev_pur_dt).apply(lambda x: x.days)"
   ]
  },
  {
   "cell_type": "code",
   "execution_count": 36,
   "metadata": {},
   "outputs": [],
   "source": [
    "cust_purdt_diffs = cust_purdt.dropna().groupby('customer_unique_id').diff_days.mean()  # Multiple Transactions only"
   ]
  },
  {
   "cell_type": "code",
   "execution_count": 37,
   "metadata": {},
   "outputs": [
    {
     "data": {
      "text/plain": [
       "count    2384.000000\n",
       "mean      109.758809\n",
       "std       112.944779\n",
       "min         1.000000\n",
       "25%        22.000000\n",
       "50%        67.000000\n",
       "75%       168.000000\n",
       "max       609.000000\n",
       "Name: diff_days, dtype: float64"
      ]
     },
     "execution_count": 37,
     "metadata": {},
     "output_type": "execute_result"
    }
   ],
   "source": [
    "cust_purdt.diff_days.describe()"
   ]
  },
  {
   "cell_type": "code",
   "execution_count": 38,
   "metadata": {},
   "outputs": [
    {
     "data": {
      "text/plain": [
       "Text(0.5, 1.0, 'Probability Density of Avg. days between purchases')"
      ]
     },
     "execution_count": 38,
     "metadata": {},
     "output_type": "execute_result"
    },
    {
     "data": {
      "image/png": "[encoded data removed]",
      "text/plain": [
       "<Figure size 432x288 with 1 Axes>"
      ]
     },
     "metadata": {
      "needs_background": "light"
     },
     "output_type": "display_data"
    }
   ],
   "source": [
    "cust_purdt_diffs.hist(density=True, bins=50)\n",
    "plt.xlabel('Avg Days Between Transactions')\n",
    "plt.ylabel('Density')\n",
    "plt.title('Probability Density of Avg. days between purchases')"
   ]
  },
  {
   "cell_type": "markdown",
   "metadata": {},
   "source": [
    "### RFM Dataset/Per-Customer Metrics\n",
    "\n",
    "- Recency: Last purchase date - inital purchase date (same as avg. days between transactions from prev. step)\n",
    "- Frequency: Number of repeat purchases\n",
    "- T: time delta between max date and last purchase date"
   ]
  },
  {
   "cell_type": "code",
   "execution_count": 39,
   "metadata": {},
   "outputs": [],
   "source": [
    "rfm_df = (\n",
    "  lftutls.summary_data_from_transaction_data(\n",
    "    order_customer,\n",
    "    customer_id_col='customer_unique_id',\n",
    "    datetime_col='purchased_at',\n",
    "    observation_period_end = order_customer.purchased_at.dt.date.max(),\n",
    "    freq='D'\n",
    "    )\n",
    "  )"
   ]
  },
  {
   "cell_type": "code",
   "execution_count": 40,
   "metadata": {},
   "outputs": [
    {
     "data": {
      "text/html": [
       "<div>\n",
       "<style scoped>\n",
       "    .dataframe tbody tr th:only-of-type {\n",
       "        vertical-align: middle;\n",
       "    }\n",
       "\n",
       "    .dataframe tbody tr th {\n",
       "        vertical-align: top;\n",
       "    }\n",
       "\n",
       "    .dataframe thead tr th {\n",
       "        text-align: left;\n",
       "    }\n",
       "</style>\n",
       "<table border=\"1\" class=\"dataframe\">\n",
       "  <thead>\n",
       "    <tr>\n",
       "      <th></th>\n",
       "      <th>frequency</th>\n",
       "      <th colspan=\"2\" halign=\"left\">recency</th>\n",
       "    </tr>\n",
       "    <tr>\n",
       "      <th></th>\n",
       "      <th></th>\n",
       "      <th>count</th>\n",
       "      <th>mean</th>\n",
       "    </tr>\n",
       "  </thead>\n",
       "  <tbody>\n",
       "    <tr>\n",
       "      <th>0</th>\n",
       "      <td>0.0</td>\n",
       "      <td>93947</td>\n",
       "      <td>0.000000</td>\n",
       "    </tr>\n",
       "    <tr>\n",
       "      <th>1</th>\n",
       "      <td>1.0</td>\n",
       "      <td>1983</td>\n",
       "      <td>114.877963</td>\n",
       "    </tr>\n",
       "    <tr>\n",
       "      <th>2</th>\n",
       "      <td>2.0</td>\n",
       "      <td>133</td>\n",
       "      <td>188.849624</td>\n",
       "    </tr>\n",
       "    <tr>\n",
       "      <th>3</th>\n",
       "      <td>3.0</td>\n",
       "      <td>19</td>\n",
       "      <td>264.526316</td>\n",
       "    </tr>\n",
       "    <tr>\n",
       "      <th>4</th>\n",
       "      <td>4.0</td>\n",
       "      <td>5</td>\n",
       "      <td>258.000000</td>\n",
       "    </tr>\n",
       "    <tr>\n",
       "      <th>5</th>\n",
       "      <td>5.0</td>\n",
       "      <td>6</td>\n",
       "      <td>273.166667</td>\n",
       "    </tr>\n",
       "    <tr>\n",
       "      <th>6</th>\n",
       "      <td>6.0</td>\n",
       "      <td>2</td>\n",
       "      <td>164.000000</td>\n",
       "    </tr>\n",
       "    <tr>\n",
       "      <th>7</th>\n",
       "      <td>16.0</td>\n",
       "      <td>1</td>\n",
       "      <td>462.000000</td>\n",
       "    </tr>\n",
       "  </tbody>\n",
       "</table>\n",
       "</div>"
      ],
      "text/plain": [
       "  frequency recency            \n",
       "              count        mean\n",
       "0       0.0   93947    0.000000\n",
       "1       1.0    1983  114.877963\n",
       "2       2.0     133  188.849624\n",
       "3       3.0      19  264.526316\n",
       "4       4.0       5  258.000000\n",
       "5       5.0       6  273.166667\n",
       "6       6.0       2  164.000000\n",
       "7      16.0       1  462.000000"
      ]
     },
     "execution_count": 40,
     "metadata": {},
     "output_type": "execute_result"
    }
   ],
   "source": [
    "freq_recency = rfm_df.groupby('frequency').agg({'recency' : ['count', 'mean']}).reset_index()\n",
    "freq_recency"
   ]
  },
  {
   "cell_type": "markdown",
   "metadata": {},
   "source": [
    "### Output files for dashboard"
   ]
  },
  {
   "cell_type": "code",
   "execution_count": 41,
   "metadata": {},
   "outputs": [],
   "source": [
    "ord_cus_prod.to_csv('master.csv', index=False)\n",
    "freq_recency.to_csv('freq_recency.csv', index=False)"
   ]
  },
  {
   "cell_type": "code",
   "execution_count": null,
   "metadata": {},
   "outputs": [],
   "source": []
  }
 ],
 "metadata": {
  "kernelspec": {
   "display_name": "Python [conda env:python38]",
   "language": "python",
   "name": "conda-env-python38-py"
  },
  "language_info": {
   "codemirror_mode": {
    "name": "ipython",
    "version": 3
   },
   "file_extension": ".py",
   "mimetype": "text/x-python",
   "name": "python",
   "nbconvert_exporter": "python",
   "pygments_lexer": "ipython3",
   "version": "3.8.5"
  }
 },
 "nbformat": 4,
 "nbformat_minor": 4
}
